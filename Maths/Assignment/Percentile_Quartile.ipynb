{
 "cells": [
  {
   "cell_type": "code",
   "execution_count": 3,
   "metadata": {},
   "outputs": [],
   "source": [
    "import numpy as np"
   ]
  },
  {
   "cell_type": "markdown",
   "metadata": {},
   "source": [
    "### Question 1"
   ]
  },
  {
   "cell_type": "code",
   "execution_count": 4,
   "metadata": {},
   "outputs": [],
   "source": [
    "salaries = [40, 45, 50, 55, 60, 62, 65, 68, 70, 72,\n",
    "75, 78, 80, 82, 85, 88, 90, 92, 95, 100,\n",
    "105, 110, 115, 120, 125, 130, 135, 140, 145, 150,\n",
    "155, 160, 165, 170, 175, 180, 185, 190, 195, 200,\n",
    "205, 210, 215, 220, 225, 230, 235, 240, 245, 250,\n",
    "255, 260, 265, 270, 275, 280, 285, 290, 295, 300,\n",
    "305, 310, 315, 320, 325, 330, 335, 340, 345, 350,\n",
    "355, 360, 365, 370, 375, 380, 385, 390, 395, 400,\n",
    "405, 410, 415, 420, 425, 430, 435, 440, 445, 450,\n",
    "455, 460, 465, 470, 475, 480, 485, 490, 495, 500]"
   ]
  },
  {
   "cell_type": "code",
   "execution_count": 5,
   "metadata": {},
   "outputs": [
    {
     "name": "stdout",
     "output_type": "stream",
     "text": [
      "First quartile : 128.75\n",
      "Second quartile (Median) : 252.5\n",
      "Third quartile : 376.25\n"
     ]
    }
   ],
   "source": [
    "Q1 = np.percentile(salaries, 25)\n",
    "Q2 = np.percentile(salaries, 50)\n",
    "Q3 = np.percentile(salaries, 75)\n",
    "\n",
    "print(\"First quartile :\",Q1)\n",
    "print(\"Second quartile (Median) :\",Q2)\n",
    "print(\"Third quartile :\",Q3)"
   ]
  },
  {
   "cell_type": "code",
   "execution_count": 6,
   "metadata": {},
   "outputs": [
    {
     "name": "stdout",
     "output_type": "stream",
     "text": [
      "10th percentile : 74.7\n",
      "25th percentile : 128.75\n",
      "75th percentile : 376.25\n",
      "90th percentile : 450.50000000000006\n"
     ]
    }
   ],
   "source": [
    "a = np.percentile(salaries, 10)\n",
    "b = np.percentile(salaries, 25)\n",
    "c = np.percentile(salaries, 75)\n",
    "d = np.percentile(salaries, 90)\n",
    "\n",
    "print(\"10th percentile :\",a)\n",
    "print(\"25th percentile :\",b)\n",
    "print(\"75th percentile :\",c)\n",
    "print(\"90th percentile :\",d)"
   ]
  },
  {
   "cell_type": "markdown",
   "metadata": {},
   "source": [
    "### Question 2"
   ]
  },
  {
   "cell_type": "code",
   "execution_count": 7,
   "metadata": {},
   "outputs": [],
   "source": [
    "Weights= [55, 60, 62, 65, 68, 70, 72, 75, 78, 80,\n",
    "82, 85, 88, 90, 92, 95, 100, 105, 110, 115,\n",
    "120, 125, 130, 135, 140, 145, 150, 155, 160, 165,\n",
    "170, 175, 180, 185, 190, 195, 200, 205, 210, 215,\n",
    "220, 225, 230, 235, 240, 245, 250, 255, 260, 265,\n",
    "270, 275, 280, 285, 290, 295, 300, 305, 310, 315,\n",
    "320, 325, 330, 335, 340, 345, 350, 355, 360, 365,\n",
    "370, 375,\n",
    "380, 385, 390, 395, 400, 405, 410, 415,\n",
    "420, 425, 430, 435, 440, 445, 450, 455, 460, 465,\n",
    "470, 475, 480, 485, 490, 495, 500, 505, 510, 515]"
   ]
  },
  {
   "cell_type": "code",
   "execution_count": 8,
   "metadata": {},
   "outputs": [
    {
     "name": "stdout",
     "output_type": "stream",
     "text": [
      "First quartile : 143.75\n",
      "Second quartile (Median) : 267.5\n",
      "Third quartile : 391.25\n"
     ]
    }
   ],
   "source": [
    "Q1 = np.percentile(Weights, 25)\n",
    "Q2 = np.percentile(Weights, 50)\n",
    "Q3 = np.percentile(Weights, 75)\n",
    "\n",
    "print(\"First quartile :\",Q1)\n",
    "print(\"Second quartile (Median) :\",Q2)\n",
    "print(\"Third quartile :\",Q3)"
   ]
  },
  {
   "cell_type": "code",
   "execution_count": 18,
   "metadata": {},
   "outputs": [
    {
     "name": "stdout",
     "output_type": "stream",
     "text": [
      "10th percentile : 94.55\n",
      "25th percentile : 267.5\n",
      "75th percentile : 440.74999999999994\n"
     ]
    }
   ],
   "source": [
    "a = np.percentile(Weights, 15)\n",
    "b = np.percentile(Weights, 50)\n",
    "c = np.percentile(Weights, 85)\n",
    "\n",
    "print(\"10th percentile :\",a)\n",
    "print(\"25th percentile :\",b)\n",
    "print(\"75th percentile :\",c)"
   ]
  },
  {
   "cell_type": "markdown",
   "metadata": {},
   "source": [
    "### Question 3"
   ]
  },
  {
   "cell_type": "code",
   "execution_count": 10,
   "metadata": {},
   "outputs": [],
   "source": [
    "Purchase_Amounts = [20, 25, 30, 35, 40, 45, 50, 55, 60, 65,\n",
    "70, 75, 80, 85, 90, 95, 100, 105, 110, 115,\n",
    "120, 125, 130, 135, 140, 145, 150, 155, 160, 165,\n",
    "170, 175, 180, 185, 190, 195, 200, 205, 210, 215,\n",
    "220, 225, 230, 235, 240, 245, 250, 255, 260, 265,\n",
    "270, 275, 280, 285, 290, 295, 300, 305, 310, 315,\n",
    "320, 325, 330, 335, 340, 345, 350, 355, 360, 365,\n",
    "370, 375, 380, 385, 390, 395, 400, 405, 410, 415,\n",
    "420, 425, 430, 435, 440, 445, 450, 455, 460, 465,\n",
    "470, 475, 480, 485, 490, 495, 500, 505, 510, 515,\n",
    "520, 525, 530, 535, 540, 545, 550, 555, 560, 565]"
   ]
  },
  {
   "cell_type": "code",
   "execution_count": 12,
   "metadata": {},
   "outputs": [
    {
     "name": "stdout",
     "output_type": "stream",
     "text": [
      "First quartile : 156.25\n",
      "Second quartile (Median) : 292.5\n",
      "Third quartile : 428.75\n"
     ]
    }
   ],
   "source": [
    "Q1 = np.percentile(Purchase_Amounts, 25)\n",
    "Q2 = np.percentile(Purchase_Amounts, 50)\n",
    "Q3 = np.percentile(Purchase_Amounts, 75)\n",
    "\n",
    "print(\"First quartile :\",Q1)\n",
    "print(\"Second quartile (Median) :\",Q2)\n",
    "print(\"Third quartile :\",Q3)"
   ]
  },
  {
   "cell_type": "code",
   "execution_count": 17,
   "metadata": {},
   "outputs": [
    {
     "name": "stdout",
     "output_type": "stream",
     "text": [
      "10th percentile : 129.0\n",
      "25th percentile : 238.0\n",
      "75th percentile : 456.0\n"
     ]
    }
   ],
   "source": [
    "a = np.percentile(Purchase_Amounts, 20)\n",
    "b = np.percentile(Purchase_Amounts, 40)\n",
    "c = np.percentile(Purchase_Amounts, 80)\n",
    "\n",
    "print(\"10th percentile :\",a)\n",
    "print(\"25th percentile :\",b)\n",
    "print(\"75th percentile :\",c)"
   ]
  },
  {
   "cell_type": "markdown",
   "metadata": {},
   "source": [
    "### Question 4"
   ]
  },
  {
   "cell_type": "code",
   "execution_count": 15,
   "metadata": {},
   "outputs": [],
   "source": [
    "Commute_Times = [15, 20, 25, 30, 35, 40, 45, 50, 55, 60,\n",
    "65, 70, 75, 80, 85, 90, 95, 100, 105, 110,\n",
    "115, 120, 125, 130, 135, 140, 145, 150, 155, 160,\n",
    "165, 170, 175, 180, 185, 190, 195, 200, 205, 210,\n",
    "215, 220, 225, 230, 235, 240, 245, 250, 255, 260,\n",
    "265, 270, 275, 280, 285, 290, 295, 300, 305, 310,\n",
    "315, 320, 325, 330, 335, 340, 345, 350, 355, 360,\n",
    "365, 370, 375, 380, 385, 390, 395, 400, 405, 410,\n",
    "415, 420, 425, 430, 435, 440, 445, 450, 455, 460,\n",
    "465, 470, 475, 480, 485, 490, 495, 500, 505, 510,\n",
    "515, 520, 525, 530, 535, 540, 545, 550, 555, 560,\n",
    "565, 570, 575, 580, 585, 590, 595, 600, 605, 610]"
   ]
  },
  {
   "cell_type": "code",
   "execution_count": 16,
   "metadata": {},
   "outputs": [
    {
     "name": "stdout",
     "output_type": "stream",
     "text": [
      "First quartile : 163.75\n",
      "Second quartile (Median) : 312.5\n",
      "Third quartile : 461.25\n"
     ]
    }
   ],
   "source": [
    "Q1 = np.percentile(Commute_Times, 25)\n",
    "Q2 = np.percentile(Commute_Times, 50)\n",
    "Q3 = np.percentile(Commute_Times, 75)\n",
    "\n",
    "print(\"First quartile :\",Q1)\n",
    "print(\"Second quartile (Median) :\",Q2)\n",
    "print(\"Third quartile :\",Q3)"
   ]
  },
  {
   "cell_type": "code",
   "execution_count": 19,
   "metadata": {},
   "outputs": [
    {
     "name": "stdout",
     "output_type": "stream",
     "text": [
      "10th percentile : 193.49999999999997\n",
      "25th percentile : 312.5\n",
      "75th percentile : 431.5\n"
     ]
    }
   ],
   "source": [
    "a = np.percentile(Commute_Times, 30)\n",
    "b = np.percentile(Commute_Times, 50)\n",
    "c = np.percentile(Commute_Times, 70)\n",
    "\n",
    "print(\"10th percentile :\",a)\n",
    "print(\"25th percentile :\",b)\n",
    "print(\"75th percentile :\",c)"
   ]
  },
  {
   "cell_type": "markdown",
   "metadata": {},
   "source": [
    "### Question 5"
   ]
  },
  {
   "cell_type": "code",
   "execution_count": 22,
   "metadata": {},
   "outputs": [],
   "source": [
    "Defect_Rates = [0.5, 1.0, 0.2, 0.7, 0.3, 0.9, 1.2, 0.6, 0.4, 1.1,\n",
    "0.8, 0.5, 0.3, 0.6, 1.0, 0.4, 0.5, 0.7, 0.9, 1.3,\n",
    "0.8, 0.6, 0.4, 0.7, 0.9, 0.5, 0.2, 1.0, 0.8, 0.3,\n",
    "0.6, 0.4, 0.7, 0.9, 1.2, 0.8, 0.3, 0.6, 0.5, 0.4,\n",
    "0.7, 0.9, 1.1, 0.3, 1.4, 0,9, 0.6, 0.2, 1.5, 1.0,\n",
    "0.6, 0.4, 0.7, 1.0, 0.8, 0.3, 0.5, 0.8, 0.6, 0.3, 0.9,\n",
    "0.4, 0.7, 0.9, 1.0, 0.8, 0.3, 0.5, 0.6, 0.4, 0.7,\n",
    "0.9, 1.1, 0.8, 0.3, 0.5, 0.6, 0.4, 0.7, 0.9, 1.0,\n",
    "0.8, 0.3, 0.5, 0.6, 0.4, 0.7, 0.9, 1.1, 0.8, 0.3,\n",
    "0.5, 0.6, 0.4, 0.7, 0.9, 1.0, 0.8, 0.3, 0.5, 0.6,\n",
    "0.4, 0.7, 0.9, 1.1, 0.8, 0.3, 0.5, 0.6, 0.4, 0.7,\n",
    "0.9, 1.0, 0.8, 0.3, 0.5, 0.6, 0.4, 0.7, 0.9, 1.1]"
   ]
  },
  {
   "cell_type": "code",
   "execution_count": 23,
   "metadata": {},
   "outputs": [
    {
     "name": "stdout",
     "output_type": "stream",
     "text": [
      "First quartile : 0.4\n",
      "Second quartile (Median) : 0.7\n",
      "Third quartile : 0.9\n"
     ]
    }
   ],
   "source": [
    "Q1 = np.percentile(Defect_Rates, 25)\n",
    "Q2 = np.percentile(Defect_Rates, 50)\n",
    "Q3 = np.percentile(Defect_Rates, 75)\n",
    "\n",
    "print(\"First quartile :\",Q1)\n",
    "print(\"Second quartile (Median) :\",Q2)\n",
    "print(\"Third quartile :\",Q3)"
   ]
  },
  {
   "cell_type": "code",
   "execution_count": 25,
   "metadata": {},
   "outputs": [
    {
     "name": "stdout",
     "output_type": "stream",
     "text": [
      "10th percentile : 0.4\n",
      "25th percentile : 0.7\n",
      "75th percentile : 0.9\n"
     ]
    }
   ],
   "source": [
    "a = np.percentile(Defect_Rates, 25)\n",
    "b = np.percentile(Defect_Rates, 50)\n",
    "c = np.percentile(Defect_Rates, 75)\n",
    "\n",
    "print(\"10th percentile :\",a)\n",
    "print(\"25th percentile :\",b)\n",
    "print(\"75th percentile :\",c)"
   ]
  }
 ],
 "metadata": {
  "kernelspec": {
   "display_name": "Python 3",
   "language": "python",
   "name": "python3"
  },
  "language_info": {
   "codemirror_mode": {
    "name": "ipython",
    "version": 3
   },
   "file_extension": ".py",
   "mimetype": "text/x-python",
   "name": "python",
   "nbconvert_exporter": "python",
   "pygments_lexer": "ipython3",
   "version": "3.12.1"
  }
 },
 "nbformat": 4,
 "nbformat_minor": 2
}
