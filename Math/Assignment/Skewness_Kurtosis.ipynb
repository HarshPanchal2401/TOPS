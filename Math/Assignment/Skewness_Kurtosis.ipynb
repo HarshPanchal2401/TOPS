{
 "cells": [
  {
   "cell_type": "code",
   "execution_count": 1,
   "metadata": {},
   "outputs": [],
   "source": [
    "from scipy.stats import skew, kurtosis"
   ]
  },
  {
   "cell_type": "markdown",
   "metadata": {},
   "source": [
    "### Question 1"
   ]
  },
  {
   "cell_type": "code",
   "execution_count": 2,
   "metadata": {},
   "outputs": [],
   "source": [
    "monthly_returns = [-2.5, 1.3, -0.8, -1.9, 2.1, 0.5, -1.2, 1.8, -0.5, 2.3,\n",
    "-0.7, 1.2, -1.5, -0.3, 2.6, 1.1, -1.7, 0.9, -1.4, 0.3,\n",
    "1.9, -1.1, -0.4, 2.2, -0.9, 1.6, -0.6, -1.3, 2.4, 0.7,\n",
    "-1.8, 1.5, -0.2, -2.1, 2.8, 0.8, -1.6, 1.4, -0.1, 2.5,\n",
    "-1.0, 1.7, -0.9, -2.0, 2.7, 0.6, -1.4, 1.1, -0.3, 2.0]"
   ]
  },
  {
   "cell_type": "code",
   "execution_count": 3,
   "metadata": {},
   "outputs": [
    {
     "name": "stdout",
     "output_type": "stream",
     "text": [
      "Skewness = 0.05289580603481756\n",
      "Kurtosis = -1.2950729066374378\n"
     ]
    }
   ],
   "source": [
    "print(\"Skewness =\",skew(monthly_returns))\n",
    "print(\"Kurtosis =\", kurtosis(monthly_returns))"
   ]
  },
  {
   "cell_type": "markdown",
   "metadata": {},
   "source": [
    "Skewness : A skewness value is 0.052 that nearly equal to 0 that indicates the distribution is nearly symmetric   \n",
    "Kurtosis : A negative kurtosis value (less than 0) suggests that the distribution is platykurtic, meaning it has lighter tails and a flatter peak compared to a normal distribution"
   ]
  },
  {
   "cell_type": "markdown",
   "metadata": {},
   "source": [
    "### Question 2"
   ]
  },
  {
   "cell_type": "code",
   "execution_count": 5,
   "metadata": {},
   "outputs": [],
   "source": [
    "incomes = [2.5, 4.8, 3.2, 2.1, 4.5, 2.9, 2.3, 3.1, 4.2, 3.9,\n",
    "2.8, 4.1, 2.6, 2.4, 4.7, 3.3, 2.7, 3.0, 4.3, 3.7,\n",
    "2.2, 3.6, 4.0, 2.7, 3.8, 3.5, 3.2, 4.4, 2.0, 3.4,\n",
    "3.1, 2.9, 4.6, 3.3, 2.5, 4.9, 2.8, 3.0, 4.2, 3.9,\n",
    "2.8, 4.1, 2.6, 2.4, 4.7, 3.3, 2.7, 3.0, 4.3, 3.7,\n",
    "2.2, 3.6, 4.0, 2.7, 3.8, 3.5, 3.2, 4.4, 2.0, 3.4,\n",
    "3.1, 2.9, 4.6, 3.3, 2.5, 4.9, 2.8, 3.0, 4.2, 3.9,\n",
    "2.8, 4.1, 2.6, 2.4, 4.7, 3.3, 2.7, 3.0, 4.3, 3.7,\n",
    "2.2, 3.6, 4.0, 2.7, 3.8, 3.5, 3.2, 4.4, 2.0, 3.4,\n",
    "3.1, 2.9, 4.6, 3.3, 2.5, 4.9]"
   ]
  },
  {
   "cell_type": "code",
   "execution_count": 6,
   "metadata": {},
   "outputs": [
    {
     "name": "stdout",
     "output_type": "stream",
     "text": [
      "Skewness = 0.22050966381635612\n",
      "Kurtosis = -0.9452664315355492\n"
     ]
    }
   ],
   "source": [
    "print(\"Skewness =\",skew(incomes))\n",
    "print(\"Kurtosis =\",kurtosis(incomes))"
   ]
  },
  {
   "cell_type": "markdown",
   "metadata": {},
   "source": [
    "Skewness : skewness is close to zero but slightly positive, the distribution is approximately symmetric with a very mild right skew.      \n",
    "Kurtosis : A negative kurtosis value (less than 0) suggests that the distribution is platykurtic, meaning it has lighter tails and is flatter compared to a normal distribution."
   ]
  },
  {
   "cell_type": "markdown",
   "metadata": {},
   "source": [
    "### Question 3"
   ]
  },
  {
   "cell_type": "code",
   "execution_count": 7,
   "metadata": {},
   "outputs": [],
   "source": [
    "Rating = [4, 5, 3, 4, 4, 3, 2, 5, 4, 3,\n",
    "5, 4, 2, 3, 4, 5, 3, 4, 5, 3,\n",
    "4, 3, 2, 4, 5, 3, 4, 5, 4, 3,\n",
    "3, 4, 5, 2, 3, 4, 4, 3, 5, 4,\n",
    "3, 4, 5, 4, 2, 3, 4, 5, 3, 4,\n",
    "5, 4, 3, 4, 5, 3, 4, 5, 4, 3,\n",
    "3, 4, 5, 2, 3, 4, 4, 3, 5, 4,\n",
    "3, 4, 5, 4, 2, 3, 4, 5, 3, 4,\n",
    "5, 4, 3, 4, 5, 3, 4, 5, 4, 3,\n",
    "3, 4, 5, 2, 3, 4, 4, 3, 5, 4]"
   ]
  },
  {
   "cell_type": "code",
   "execution_count": 8,
   "metadata": {},
   "outputs": [
    {
     "name": "stdout",
     "output_type": "stream",
     "text": [
      "Skewness = -0.20773281879682218\n",
      "Kurtosis = -0.767917404014467\n"
     ]
    }
   ],
   "source": [
    "print(\"Skewness =\",skew(Rating))\n",
    "print(\"Kurtosis =\",kurtosis(Rating))"
   ]
  },
  {
   "cell_type": "markdown",
   "metadata": {},
   "source": [
    "Skewness : The skewness is slightly negative, indicating that the distribution has a small left (negative) skew.    \n",
    "Kurtosis : A negative kurtosis value suggests that the distribution is platykurtic, meaning it has thinner tails and is more flat-topped compared to a normal distribution. This implies fewer extreme values (outliers)."
   ]
  },
  {
   "cell_type": "markdown",
   "metadata": {},
   "source": [
    "### Question 4"
   ]
  },
  {
   "cell_type": "code",
   "execution_count": 9,
   "metadata": {},
   "outputs": [],
   "source": [
    "house_price = [280, 350, 310, 270, 390, 320, 290, 340, 310, 380,\n",
    "270, 350, 300, 330, 370, 310, 280, 320, 350, 290,\n",
    "270, 350, 300, 330, 370, 310, 280, 320, 350, 290,\n",
    "270, 350, 300, 330, 370, 310, 280, 320, 350, 290,\n",
    "270, 350, 300, 330, 370, 310, 280, 320, 350, 290,\n",
    "270, 350, 300, 330, 370, 310, 280, 320, 350, 290,\n",
    "270, 350, 300, 330, 370, 310, 280, 320, 350, 290,\n",
    "270, 350, 300, 330, 370, 310, 280, 320, 350, 290,\n",
    "270, 350, 300, 330, 370, 310, 280, 320, 350, 290,\n",
    "270, 350, 300, 330, 370, 310, 280, 320, 350, 290]"
   ]
  },
  {
   "cell_type": "code",
   "execution_count": 10,
   "metadata": {},
   "outputs": [
    {
     "name": "stdout",
     "output_type": "stream",
     "text": [
      "Skewness = 0.20606717698636337\n",
      "Kurtosis = -1.045680283003699\n"
     ]
    }
   ],
   "source": [
    "print(\"Skewness =\",skew(house_price))\n",
    "print(\"Kurtosis =\",kurtosis(house_price))"
   ]
  },
  {
   "cell_type": "markdown",
   "metadata": {},
   "source": [
    "Skewness : The skewness is slightly positive, the distribution is nearly symmetric but has a small rightward (positive) skew.  \n",
    "Kurtosis : The kurtosis value is negative, which suggests the distribution is platykurtic."
   ]
  },
  {
   "cell_type": "markdown",
   "metadata": {},
   "source": [
    "### Question 5"
   ]
  },
  {
   "cell_type": "code",
   "execution_count": 13,
   "metadata": {},
   "outputs": [],
   "source": [
    "wait_time = [12, 18, 15, 22, 20, 14, 16, 21, 19, 17,\n",
    "22, 19, 13, 16, 21, 22, 17, 19, 22, 18,\n",
    "14, 20, 19, 17, 22, 18, 15, 21, 20, 16,\n",
    "12, 18, 15, 22, 20, 14, 16, 21, 19, 17,\n",
    "22, 19, 13, 16, 21, 22, 17, 19, 22, 18,\n",
    "14, 20, 19, 17, 22, 18, 15, 21, 20, 16,\n",
    "12, 18, 15, 22, 20, 14, 16, 21, 19, 17,\n",
    "22, 19, 13, 16, 21, 22, 17, 19, 22, 18,\n",
    "14, 20, 19, 17, 22, 18, 15, 21, 20, 16,\n",
    "12, 18, 15, 22, 20, 14, 16, 21, 19, 17]"
   ]
  },
  {
   "cell_type": "code",
   "execution_count": 15,
   "metadata": {},
   "outputs": [
    {
     "name": "stdout",
     "output_type": "stream",
     "text": [
      "Skewness = -0.32996659307494663\n",
      "Kurtosis = -0.8969791791415274\n"
     ]
    }
   ],
   "source": [
    "print(\"Skewness =\",skew(wait_time))\n",
    "print(\"Kurtosis =\",kurtosis(wait_time))"
   ]
  },
  {
   "cell_type": "markdown",
   "metadata": {},
   "source": [
    "Skewness : -0.33 is close to 0, the asymmetry is not very strong—the distribution is almost symmetric but with a slight leftward lean.   \n",
    "Kurtosis : A negative kurtosis suggests the distribution is platykurtic, meaning it has flatter peaks and thinner tails than a normal distribution"
   ]
  }
 ],
 "metadata": {
  "kernelspec": {
   "display_name": "Python 3",
   "language": "python",
   "name": "python3"
  },
  "language_info": {
   "codemirror_mode": {
    "name": "ipython",
    "version": 3
   },
   "file_extension": ".py",
   "mimetype": "text/x-python",
   "name": "python",
   "nbconvert_exporter": "python",
   "pygments_lexer": "ipython3",
   "version": "3.12.1"
  }
 },
 "nbformat": 4,
 "nbformat_minor": 2
}
