{
 "cells": [
  {
   "cell_type": "code",
   "execution_count": 18,
   "metadata": {},
   "outputs": [],
   "source": [
    "from math import comb\n",
    "from scipy.stats import binom, hypergeom, norm, expon, uniform"
   ]
  },
  {
   "cell_type": "code",
   "execution_count": 3,
   "metadata": {},
   "outputs": [],
   "source": [
    "def binomial_probability(n, k, p):\n",
    "    return comb(n, k) * (p ** k) * ((1 - p) ** (n - k))\n",
    "\n",
    "def hypergeometric_probability(N, K, n, k):\n",
    "    return (comb(K, k) * comb(N - K, n - k)) / comb(N, n)"
   ]
  },
  {
   "cell_type": "markdown",
   "metadata": {},
   "source": [
    "<center><h2>Discrete Random Variable</h2></center>"
   ]
  },
  {
   "cell_type": "markdown",
   "metadata": {},
   "source": [
    "### Question 1"
   ]
  },
  {
   "cell_type": "code",
   "execution_count": 13,
   "metadata": {},
   "outputs": [
    {
     "name": "stdout",
     "output_type": "stream",
     "text": [
      "Probability of rolling exactly 5 threes in 100 rolls: 0.000291\n"
     ]
    }
   ],
   "source": [
    "n1 = 100\n",
    "k1 = 5\n",
    "p1 = 1/6\n",
    "prob1 = binomial_probability(n1, k1, p1)\n",
    "print(f\"Probability of rolling exactly {k1} threes in {n1} rolls: {prob1:.6f}\")"
   ]
  },
  {
   "cell_type": "markdown",
   "metadata": {},
   "source": [
    "### Question 2"
   ]
  },
  {
   "cell_type": "code",
   "execution_count": 14,
   "metadata": {},
   "outputs": [
    {
     "name": "stdout",
     "output_type": "stream",
     "text": [
      "Probability of drawing exactly 2 hearts in 5 draws: 0.274280\n"
     ]
    }
   ],
   "source": [
    "N2 = 52\n",
    "K2= 13\n",
    "n2 = 5 \n",
    "k2 = 2\n",
    "prob2 = hypergeometric_probability(N2, K2, n2, k2)\n",
    "print(f\"Probability of drawing exactly {k2} hearts in {n2} draws: {prob2:.6f}\")"
   ]
  },
  {
   "cell_type": "markdown",
   "metadata": {},
   "source": [
    "### Question 3"
   ]
  },
  {
   "cell_type": "code",
   "execution_count": 15,
   "metadata": {},
   "outputs": [
    {
     "name": "stdout",
     "output_type": "stream",
     "text": [
      "Probability of getting at least 8 correct answers: 0.000416\n"
     ]
    }
   ],
   "source": [
    "n3 =10\n",
    "p3 = 1/4\n",
    "prob3 = sum(binom.pmf(k, n3, p3) for k in range(8, 11))\n",
    "print(f\"Probability of getting at least 8 correct answers: {prob3:.6f}\")"
   ]
  },
  {
   "cell_type": "markdown",
   "metadata": {},
   "source": [
    "### Question 4"
   ]
  },
  {
   "cell_type": "code",
   "execution_count": 16,
   "metadata": {},
   "outputs": [
    {
     "name": "stdout",
     "output_type": "stream",
     "text": [
      "Probability of drawing exactly 3 blue balls: 0.033314\n"
     ]
    }
   ],
   "source": [
    "N4 = 60\n",
    "K4 = 20\n",
    "n4 = 3 \n",
    "k4 = 3\n",
    "prob4 = hypergeometric_probability(N4, K4, n4, k4)\n",
    "print(f\"Probability of drawing exactly {k4} blue balls: {prob4:.6f}\")"
   ]
  },
  {
   "cell_type": "markdown",
   "metadata": {},
   "source": [
    "### Question 5"
   ]
  },
  {
   "cell_type": "code",
   "execution_count": 17,
   "metadata": {},
   "outputs": [
    {
     "name": "stdout",
     "output_type": "stream",
     "text": [
      "Probability of scoring exactly 3 goals in 10 shots: 0.266828\n"
     ]
    }
   ],
   "source": [
    "n5 =10 \n",
    "k5 = 3\n",
    "p5 = 0.3\n",
    "prob5 = binomial_probability(n5, k5, p5)\n",
    "print(f\"Probability of scoring exactly {k5} goals in {n5} shots: {prob5:.6f}\")"
   ]
  },
  {
   "cell_type": "markdown",
   "metadata": {},
   "source": [
    "<center><h2>Continuous Random Variable</h2></center>"
   ]
  },
  {
   "cell_type": "markdown",
   "metadata": {},
   "source": [
    "### Question 1"
   ]
  },
  {
   "cell_type": "code",
   "execution_count": 19,
   "metadata": {},
   "outputs": [
    {
     "name": "stdout",
     "output_type": "stream",
     "text": [
      "Probability of a student being taller than 180 cm: 0.066807\n"
     ]
    }
   ],
   "source": [
    "mu1 =165 \n",
    "sigma1 = 10\n",
    "x1 = 180\n",
    "prob6 = 1 - norm.cdf(x1, mu1, sigma1)\n",
    "print(f\"Probability of a student being taller than {x1} cm: {prob6:.6f}\")"
   ]
  },
  {
   "cell_type": "markdown",
   "metadata": {},
   "source": [
    "### Question 2"
   ]
  },
  {
   "cell_type": "code",
   "execution_count": 20,
   "metadata": {},
   "outputs": [
    {
     "name": "stdout",
     "output_type": "stream",
     "text": [
      "Probability of waiting less than 3 minutes: 0.451188\n"
     ]
    }
   ],
   "source": [
    "mu2 = 5 \n",
    "x2 = 3\n",
    "prob7 = expon.cdf(x2, scale=mu2)\n",
    "print(f\"Probability of waiting less than {x2} minutes: {prob7:.6f}\")"
   ]
  },
  {
   "cell_type": "markdown",
   "metadata": {},
   "source": [
    "### Question 3"
   ]
  },
  {
   "cell_type": "code",
   "execution_count": 25,
   "metadata": {},
   "outputs": [
    {
     "name": "stdout",
     "output_type": "stream",
     "text": [
      "Probability of a light bulb lasting between 900 and 1100 hours: 0.682689\n"
     ]
    }
   ],
   "source": [
    "mu3 = 1000 \n",
    "sigma3 = 100\n",
    "x3_low = 900 \n",
    "x3_high = 1100\n",
    "prob8 = norm.cdf(x3_high, mu3, sigma3) - norm.cdf(x3_low, mu3, sigma3)\n",
    "print(f\"Probability of a light bulb lasting between {x3_low} and {x3_high} hours: {prob8:.6f}\")"
   ]
  },
  {
   "cell_type": "markdown",
   "metadata": {},
   "source": [
    "### Question 4"
   ]
  },
  {
   "cell_type": "code",
   "execution_count": 29,
   "metadata": {},
   "outputs": [
    {
     "name": "stdout",
     "output_type": "stream",
     "text": [
      "Probability of an apple weighing between 150 and 170 grams: 0.200000\n"
     ]
    }
   ],
   "source": [
    "x4_low = 100\n",
    "x4_high = 200\n",
    "x4_range_low = 150 \n",
    "x4_range_high = 170\n",
    "prob9 = uniform.cdf(x4_range_high, x4_low, x4_high - x4_low) - uniform.cdf(x4_range_low, x4_low, x4_high - x4_low)\n",
    "print(f\"Probability of an apple weighing between {x4_range_low} and {x4_range_high} grams: {prob9:.6f}\")"
   ]
  },
  {
   "cell_type": "markdown",
   "metadata": {},
   "source": [
    "### Question 5"
   ]
  },
  {
   "cell_type": "code",
   "execution_count": 24,
   "metadata": {},
   "outputs": [
    {
     "name": "stdout",
     "output_type": "stream",
     "text": [
      "Probability of completing the task in less than 15 minutes: 0.527633\n"
     ]
    }
   ],
   "source": [
    "mu5 = 20\n",
    "x5 = 15\n",
    "prob10 = expon.cdf(x5, scale=mu5)\n",
    "print(f\"Probability of completing the task in less than {x5} minutes: {prob10:.6f}\")"
   ]
  }
 ],
 "metadata": {
  "kernelspec": {
   "display_name": "Python 3",
   "language": "python",
   "name": "python3"
  },
  "language_info": {
   "codemirror_mode": {
    "name": "ipython",
    "version": 3
   },
   "file_extension": ".py",
   "mimetype": "text/x-python",
   "name": "python",
   "nbconvert_exporter": "python",
   "pygments_lexer": "ipython3",
   "version": "3.12.1"
  }
 },
 "nbformat": 4,
 "nbformat_minor": 2
}
