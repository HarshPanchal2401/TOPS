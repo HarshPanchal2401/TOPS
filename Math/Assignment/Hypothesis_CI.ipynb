{
 "cells": [
  {
   "cell_type": "markdown",
   "metadata": {},
   "source": [
    "# Confidence Interval"
   ]
  },
  {
   "cell_type": "markdown",
   "metadata": {},
   "source": [
    "### Question 1"
   ]
  },
  {
   "cell_type": "code",
   "execution_count": 1,
   "metadata": {},
   "outputs": [
    {
     "name": "stdout",
     "output_type": "stream",
     "text": [
      "95% Confidence Interval: (168.41, 171.59)\n"
     ]
    }
   ],
   "source": [
    "from scipy.stats import t\n",
    "import math\n",
    "\n",
    "\n",
    "x_bar = 170 \n",
    "s = 8    \n",
    "n = 100  \n",
    "confidence_level = 0.95\n",
    "df = n - 1\n",
    "\n",
    "# t-value for 95% confidence level\n",
    "alpha = 1 - confidence_level\n",
    "t_value = t.ppf(1 - alpha/2, df)\n",
    "\n",
    "# Standard error\n",
    "SE = s / math.sqrt(n)\n",
    "\n",
    "# Confidence interval\n",
    "CI_lower = x_bar - t_value * SE\n",
    "CI_upper = x_bar + t_value * SE\n",
    "\n",
    "print(f\"95% Confidence Interval: ({CI_lower:.2f}, {CI_upper:.2f})\")"
   ]
  },
  {
   "cell_type": "markdown",
   "metadata": {},
   "source": [
    "### Question 2"
   ]
  },
  {
   "cell_type": "code",
   "execution_count": 2,
   "metadata": {},
   "outputs": [
    {
     "name": "stdout",
     "output_type": "stream",
     "text": [
      "90% Confidence Interval: (0.6047, 0.6753)\n"
     ]
    }
   ],
   "source": [
    "from scipy.stats import norm\n",
    "import math\n",
    "\n",
    "\n",
    "x = 320\n",
    "n = 500 \n",
    "confidence_level = 0.90\n",
    "p_hat = x / n\n",
    "\n",
    "# Z-value for 90% confidence level\n",
    "alpha = 1 - confidence_level\n",
    "z_value = norm.ppf(1 - alpha/2)\n",
    "\n",
    "# Standard error\n",
    "SE = math.sqrt((p_hat * (1 - p_hat)) / n)\n",
    "\n",
    "# Confidence interval\n",
    "CI_lower = p_hat - z_value * SE\n",
    "CI_upper = p_hat + z_value * SE\n",
    "\n",
    "print(f\"90% Confidence Interval: ({CI_lower:.4f}, {CI_upper:.4f})\")"
   ]
  },
  {
   "cell_type": "markdown",
   "metadata": {},
   "source": [
    "# Hypothesis Testing"
   ]
  },
  {
   "cell_type": "markdown",
   "metadata": {},
   "source": [
    "### Question 3"
   ]
  },
  {
   "cell_type": "code",
   "execution_count": 3,
   "metadata": {},
   "outputs": [
    {
     "name": "stdout",
     "output_type": "stream",
     "text": [
      "T-statistic: 18.73141029124519\n",
      "P-value: 3.748639407718651e-34\n",
      "Reject the null hypothesis: There is a significant difference between the two methods.\n"
     ]
    }
   ],
   "source": [
    "import numpy as np\n",
    "from scipy import stats\n",
    "\n",
    "new_method_scores = [85, 88, 91, 79, 93, 84, 76, 92, 89, 85, 87, 80, 82, 91, 78, 85, 90, 84, 86, 92, 79, 83, 88, 84, 81, 86, 88, 91, 82, 89, 90, 87, 85, 90, 89, 88, 84, 85, 90, 86, 88, 89, 80, 92, 87, 81, 85, 86, 84, 90]  # New method test scores\n",
    "traditional_method_scores = [78, 74, 72, 70, 68, 76, 73, 71, 75, 77, 74, 72, 70, 75, 73, 76, 74, 72, 71, 70, 78, 79, 74, 75, 73, 72, 74, 77, 71, 73, 75, 72, 70, 74, 71, 76, 73, 75, 72, 74, 76, 72, 74, 77, 75, 74, 73, 70, 72, 71]  # Traditional method test scores\n",
    "\n",
    "t_stat, p_value = stats.ttest_ind(new_method_scores, traditional_method_scores)\n",
    "\n",
    "print(\"T-statistic:\", t_stat)\n",
    "print(\"P-value:\", p_value)\n",
    "\n",
    "alpha = 0.05\n",
    "if p_value < alpha:\n",
    "    print(\"Reject the null hypothesis: There is a significant difference between the two methods.\")\n",
    "else:\n",
    "    print(\"Fail to reject the null hypothesis: There is no significant difference between the two methods.\")"
   ]
  },
  {
   "cell_type": "markdown",
   "metadata": {},
   "source": [
    "### Question 4"
   ]
  },
  {
   "cell_type": "code",
   "execution_count": 4,
   "metadata": {},
   "outputs": [
    {
     "name": "stdout",
     "output_type": "stream",
     "text": [
      "T-statistic: 2.5\n",
      "P-value: 0.01965417511657863\n",
      "Reject the null hypothesis: There is evidence to suggest that the population mean is not 500 grams.\n"
     ]
    }
   ],
   "source": [
    "import scipy.stats as stats\n",
    "import math\n",
    "\n",
    "# Given data\n",
    "sample_mean = 510\n",
    "population_mean = 500\n",
    "sample_std = 20\n",
    "sample_size = 25\n",
    "\n",
    "t_stat = (sample_mean - population_mean) / (sample_std / math.sqrt(sample_size))\n",
    "df = sample_size - 1\n",
    "\n",
    "p_value = 2 * (1 - stats.t.cdf(abs(t_stat), df))\n",
    "\n",
    "print(\"T-statistic:\", t_stat)\n",
    "print(\"P-value:\", p_value)\n",
    "\n",
    "alpha = 0.05\n",
    "if p_value < alpha:\n",
    "    print(\"Reject the null hypothesis: There is evidence to suggest that the population mean is not 500 grams.\")\n",
    "else:\n",
    "    print(\"Fail to reject the null hypothesis: There is no significant evidence to suggest that the population mean is different from 500 grams.\")"
   ]
  }
 ],
 "metadata": {
  "kernelspec": {
   "display_name": "Python 3",
   "language": "python",
   "name": "python3"
  },
  "language_info": {
   "codemirror_mode": {
    "name": "ipython",
    "version": 3
   },
   "file_extension": ".py",
   "mimetype": "text/x-python",
   "name": "python",
   "nbconvert_exporter": "python",
   "pygments_lexer": "ipython3",
   "version": "3.12.1"
  }
 },
 "nbformat": 4,
 "nbformat_minor": 2
}
