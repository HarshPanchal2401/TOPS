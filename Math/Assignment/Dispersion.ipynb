{
 "cells": [
  {
   "cell_type": "code",
   "execution_count": 127,
   "metadata": {},
   "outputs": [],
   "source": [
    "import numpy as np\n",
    "import scipy.stats as stats\n",
    "import matplotlib.pyplot as plt"
   ]
  },
  {
   "cell_type": "markdown",
   "metadata": {},
   "source": [
    "### Question 1"
   ]
  },
  {
   "cell_type": "code",
   "execution_count": 128,
   "metadata": {},
   "outputs": [],
   "source": [
    "data = [120, 110, 130, 115, 125, 105, 135, 115, 125, 140]"
   ]
  },
  {
   "cell_type": "code",
   "execution_count": 129,
   "metadata": {},
   "outputs": [
    {
     "name": "stdout",
     "output_type": "stream",
     "text": [
      "The range of Product output is :  35\n"
     ]
    }
   ],
   "source": [
    "# range\n",
    "Range = np.ptp(data)\n",
    "print(\"The range of Product output is : \", Range)"
   ]
  },
  {
   "cell_type": "code",
   "execution_count": 130,
   "metadata": {},
   "outputs": [
    {
     "name": "stdout",
     "output_type": "stream",
     "text": [
      "The variance of Product output is :  111.0\n"
     ]
    }
   ],
   "source": [
    "# variance\n",
    "product_variance = np.var(data)\n",
    "print(\"The variance of Product output is : \", product_variance)"
   ]
  },
  {
   "cell_type": "code",
   "execution_count": 131,
   "metadata": {},
   "outputs": [
    {
     "name": "stdout",
     "output_type": "stream",
     "text": [
      "The Standard deviation of Product output is :  10.535653752852738\n"
     ]
    }
   ],
   "source": [
    "# Standard deviation\n",
    "product_STD = np.std(data)\n",
    "print(\"The Standard deviation of Product output is : \", product_STD)"
   ]
  },
  {
   "cell_type": "markdown",
   "metadata": {},
   "source": [
    "### Question 2"
   ]
  },
  {
   "cell_type": "code",
   "execution_count": 132,
   "metadata": {},
   "outputs": [],
   "source": [
    "sales_data = [500, 700, 400, 600, 550, 750, 650, 500, 600, 550,\n",
    "            800, 450, 700, 550, 600, 400, 650, 500, 750, 550,\n",
    "            700, 600, 500, 800, 550, 650, 400, 600, 750, 550]"
   ]
  },
  {
   "cell_type": "code",
   "execution_count": 133,
   "metadata": {},
   "outputs": [
    {
     "name": "stdout",
     "output_type": "stream",
     "text": [
      "The range of Sales Data is :  400\n"
     ]
    }
   ],
   "source": [
    "sales_range = np.ptp(sales_data)\n",
    "print(\"The range of Sales Data is : \", sales_range)"
   ]
  },
  {
   "cell_type": "code",
   "execution_count": 134,
   "metadata": {},
   "outputs": [
    {
     "name": "stdout",
     "output_type": "stream",
     "text": [
      "The variance of Sales Data is :  12725.0\n"
     ]
    }
   ],
   "source": [
    "sales_var = np.var(sales_data)\n",
    "print(\"The variance of Sales Data is : \", sales_var)"
   ]
  },
  {
   "cell_type": "code",
   "execution_count": 135,
   "metadata": {},
   "outputs": [
    {
     "name": "stdout",
     "output_type": "stream",
     "text": [
      "The Standard deviation of Sales Data is :  112.80514172678478\n"
     ]
    }
   ],
   "source": [
    "sales_std = np.std(sales_data)\n",
    "print(\"The Standard deviation of Sales Data is : \", sales_std)"
   ]
  },
  {
   "cell_type": "markdown",
   "metadata": {},
   "source": [
    "### Question 3"
   ]
  },
  {
   "cell_type": "code",
   "execution_count": 136,
   "metadata": {},
   "outputs": [],
   "source": [
    "delivery_time = [3, 5, 2, 4, 6, 2, 3, 4, 2, 5,\n",
    "                7, 2, 3, 4, 2, 4, 2, 3, 5, 6,\n",
    "                3, 2, 1, 4, 2, 4, 5, 3, 2, 7,\n",
    "                2, 3, 4, 5, 1, 6, 2, 4, 3, 5,\n",
    "                3, 2, 4, 2, 6, 3, 2, 4, 5, 3]"
   ]
  },
  {
   "cell_type": "code",
   "execution_count": 137,
   "metadata": {},
   "outputs": [
    {
     "name": "stdout",
     "output_type": "stream",
     "text": [
      "The range of Delivery time is :  6\n"
     ]
    }
   ],
   "source": [
    "delivery_range = np.ptp(delivery_time)\n",
    "print(\"The range of Delivery time is : \", delivery_range)"
   ]
  },
  {
   "cell_type": "code",
   "execution_count": 138,
   "metadata": {},
   "outputs": [
    {
     "name": "stdout",
     "output_type": "stream",
     "text": [
      "The variance of Delivery time is :  2.2896\n"
     ]
    }
   ],
   "source": [
    "delivery_var = np.var(delivery_time)\n",
    "print(\"The variance of Delivery time is : \", delivery_var)"
   ]
  },
  {
   "cell_type": "code",
   "execution_count": 139,
   "metadata": {},
   "outputs": [
    {
     "name": "stdout",
     "output_type": "stream",
     "text": [
      "The Standard deviation of Delivery time is :  1.513142425550219\n"
     ]
    }
   ],
   "source": [
    "deliverya_std = np.std(delivery_time)\n",
    "print(\"The Standard deviation of Delivery time is : \", deliverya_std)"
   ]
  },
  {
   "cell_type": "markdown",
   "metadata": {},
   "source": [
    "### Question 4"
   ]
  },
  {
   "cell_type": "code",
   "execution_count": 140,
   "metadata": {},
   "outputs": [],
   "source": [
    "monthly_revenue = [120, 150, 110, 135, 125, 140, 130, 155, 115, 145, 135, 130]"
   ]
  },
  {
   "cell_type": "code",
   "execution_count": 141,
   "metadata": {},
   "outputs": [
    {
     "name": "stdout",
     "output_type": "stream",
     "text": [
      "Average Revenue generated by Product : 132.5\n"
     ]
    }
   ],
   "source": [
    "avarage_revenue = np.mean(monthly_revenue)\n",
    "print(\"Average Revenue generated by Product :\",avarage_revenue)"
   ]
  },
  {
   "cell_type": "code",
   "execution_count": 142,
   "metadata": {},
   "outputs": [
    {
     "name": "stdout",
     "output_type": "stream",
     "text": [
      "Range of Revenue generated by Product : 45\n"
     ]
    }
   ],
   "source": [
    "range_of_revenue = np.ptp(monthly_revenue)\n",
    "print(\"Range of Revenue generated by Product :\",range_of_revenue)"
   ]
  },
  {
   "cell_type": "markdown",
   "metadata": {},
   "source": [
    "### Question 5"
   ]
  },
  {
   "cell_type": "code",
   "execution_count": 143,
   "metadata": {},
   "outputs": [],
   "source": [
    "feedback_data = [8, 7, 9, 6, 7, 8, 9, 8, 7, 6,\n",
    "8, 9, 7, 8, 7, 6, 8, 9, 6, 7,\n",
    "8, 9, 7, 6, 7, 8, 9, 8, 7, 6,\n",
    "9, 8, 7, 6, 8, 9, 7, 8, 7, 6,\n",
    "9, 8, 7, 6, 7, 8, 9, 8, 7, 6\n",
    "]"
   ]
  },
  {
   "cell_type": "code",
   "execution_count": 144,
   "metadata": {},
   "outputs": [
    {
     "name": "stdout",
     "output_type": "stream",
     "text": [
      "Average Satisfaction Rating : 7.5\n"
     ]
    }
   ],
   "source": [
    "average_rating = np.mean(feedback_data)\n",
    "print(\"Average Satisfaction Rating :\",average_rating)"
   ]
  },
  {
   "cell_type": "code",
   "execution_count": 145,
   "metadata": {},
   "outputs": [
    {
     "name": "stdout",
     "output_type": "stream",
     "text": [
      "Standard Deviation of Satisfaction Rating : 1.02469507659596\n"
     ]
    }
   ],
   "source": [
    "std_rating = np.std(feedback_data)\n",
    "print(\"Standard Deviation of Satisfaction Rating :\",std_rating)"
   ]
  },
  {
   "cell_type": "markdown",
   "metadata": {},
   "source": [
    "### Question 6"
   ]
  },
  {
   "cell_type": "code",
   "execution_count": 146,
   "metadata": {},
   "outputs": [],
   "source": [
    "waiting_time = [10, 15, 12, 18, 20, 25, 8, 14, 16, 22,\n",
    "9, 17, 11, 13, 19, 23, 21, 16, 24, 27,\n",
    "13, 10, 18, 16, 12, 14, 19, 21, 11, 17,\n",
    "15, 20, 26, 13, 12, 14, 22, 19, 16, 11,\n",
    "25, 18, 16, 13, 21, 20, 15, 12, 19, 17,\n",
    "14, 16, 23, 18, 15, 11, 19, 22, 17, 12,\n",
    "16, 14, 18, 20, 25, 13, 11, 22, 19, 17,\n",
    "15, 16, 13, 14, 18, 20, 19, 21, 17, 12,\n",
    "15, 13, 16, 14, 22, 21, 19, 18, 16, 11,\n",
    "17, 14, 12, 20, 23, 19, 15, 16, 13, 18]"
   ]
  },
  {
   "cell_type": "code",
   "execution_count": 147,
   "metadata": {},
   "outputs": [
    {
     "name": "stdout",
     "output_type": "stream",
     "text": [
      "Average Customer Waiting Time of Call Center : 16.74\n"
     ]
    }
   ],
   "source": [
    "avg_waiting_time = np.mean(waiting_time)\n",
    "print(\"Average Customer Waiting Time of Call Center :\",avg_waiting_time)"
   ]
  },
  {
   "cell_type": "code",
   "execution_count": 148,
   "metadata": {},
   "outputs": [
    {
     "name": "stdout",
     "output_type": "stream",
     "text": [
      "Range of Customer Waiting Time of Call Center : 19\n"
     ]
    }
   ],
   "source": [
    "range_waiting_time = np.ptp(waiting_time)\n",
    "print(\"Range of Customer Waiting Time of Call Center :\",range_waiting_time)"
   ]
  },
  {
   "cell_type": "code",
   "execution_count": 149,
   "metadata": {},
   "outputs": [
    {
     "name": "stdout",
     "output_type": "stream",
     "text": [
      "Standard Deviation of Customer Waiting Time of Call Center : 4.122183887213184\n"
     ]
    }
   ],
   "source": [
    "std_waiting_time = np.std(waiting_time)\n",
    "print(\"Standard Deviation of Customer Waiting Time of Call Center :\",std_waiting_time)"
   ]
  },
  {
   "cell_type": "markdown",
   "metadata": {},
   "source": [
    "### Question 7"
   ]
  },
  {
   "cell_type": "code",
   "execution_count": 150,
   "metadata": {},
   "outputs": [],
   "source": [
    "fual_efficiency = [\n",
    "    {\"Model A\" : [30, 32, 33, 28, 31, 30, 29, 30, 32, 31]},\n",
    "    {\"Model B\" : [25, 27, 26, 23, 28, 24, 26, 25, 27, 28]},\n",
    "    {\"Model C\" : [22, 23, 20, 25, 21, 24, 23, 22, 25, 24]},\n",
    "    {\"Model D\" : [18, 17, 19, 20, 21, 18, 19, 17, 20, 19]},\n",
    "    {\"Model E\" : [35, 36, 34, 35, 33, 34, 32, 33, 36, 34]}\n",
    "]"
   ]
  },
  {
   "cell_type": "code",
   "execution_count": 151,
   "metadata": {},
   "outputs": [
    {
     "name": "stdout",
     "output_type": "stream",
     "text": [
      "Model A\n",
      "Average of Fual Efficiency : 30.6\n",
      "Range of Fual Efficiency : 5\n",
      "Varience of Fual Efficiency : 2.0400000000000005\n",
      "\n",
      "Model B\n",
      "Average of Fual Efficiency : 25.9\n",
      "Range of Fual Efficiency : 5\n",
      "Varience of Fual Efficiency : 2.49\n",
      "\n",
      "Model C\n",
      "Average of Fual Efficiency : 22.9\n",
      "Range of Fual Efficiency : 5\n",
      "Varience of Fual Efficiency : 2.4899999999999998\n",
      "\n",
      "Model D\n",
      "Average of Fual Efficiency : 18.8\n",
      "Range of Fual Efficiency : 4\n",
      "Varience of Fual Efficiency : 1.56\n",
      "\n",
      "Model E\n",
      "Average of Fual Efficiency : 34.2\n",
      "Range of Fual Efficiency : 4\n",
      "Varience of Fual Efficiency : 1.5599999999999998\n",
      "\n"
     ]
    }
   ],
   "source": [
    "for i in fual_efficiency:\n",
    "    for key, value in i.items():\n",
    "        print(key)\n",
    "        print(\"Average of Fual Efficiency :\",np.mean(value))\n",
    "        print(\"Range of Fual Efficiency :\",np.ptp(value))\n",
    "        print(\"Varience of Fual Efficiency :\",np.var(value))\n",
    "        print()"
   ]
  },
  {
   "cell_type": "markdown",
   "metadata": {},
   "source": [
    "### Question 8"
   ]
  },
  {
   "cell_type": "code",
   "execution_count": 152,
   "metadata": {},
   "outputs": [],
   "source": [
    "age = [28, 32, 35, 40, 42, 28, 33, 38, 30, 41,\n",
    "37, 31, 34, 29, 36, 43, 39, 27, 35, 31,\n",
    "39, 45, 29, 33, 37, 40, 36, 29, 31, 38,\n",
    "35, 44, 32, 39, 36, 30, 33, 28, 41, 35,\n",
    "31, 37, 42, 29, 34, 40, 31, 33, 38, 36,\n",
    "39, 27, 35, 30, 43, 29, 32, 36, 31, 40,\n",
    "38, 44, 37, 33, 35, 41, 30, 31, 39, 28,\n",
    "45, 29, 33, 38, 34, 32, 35, 31, 40, 36,\n",
    "39, 27, 35, 30, 43, 29, 32, 36, 31, 40,\n",
    "38, 44, 37, 33, 35, 41, 30, 31, 39, 28\n",
    "]"
   ]
  },
  {
   "cell_type": "code",
   "execution_count": 153,
   "metadata": {},
   "outputs": [
    {
     "name": "stdout",
     "output_type": "stream",
     "text": [
      "27 -> Count : 3\n",
      "28 -> Count : 5\n",
      "29 -> Count : 7\n",
      "30 -> Count : 6\n",
      "31 -> Count : 10\n",
      "32 -> Count : 5\n",
      "33 -> Count : 7\n",
      "34 -> Count : 3\n",
      "35 -> Count : 9\n",
      "36 -> Count : 7\n",
      "37 -> Count : 5\n",
      "38 -> Count : 6\n",
      "39 -> Count : 7\n",
      "40 -> Count : 6\n",
      "41 -> Count : 4\n",
      "42 -> Count : 2\n",
      "43 -> Count : 3\n",
      "44 -> Count : 3\n",
      "45 -> Count : 2\n"
     ]
    }
   ],
   "source": [
    "# Frequency Distribution\n",
    "for i in set(age):\n",
    "    print(f\"{i} -> Count : {age.count(i)}\")"
   ]
  },
  {
   "cell_type": "code",
   "execution_count": 154,
   "metadata": {},
   "outputs": [
    {
     "name": "stdout",
     "output_type": "stream",
     "text": [
      "Mode : ModeResult(mode=31, count=10)\n",
      "Median : 35.0\n",
      "Range : 18\n"
     ]
    }
   ],
   "source": [
    "print(\"Mode :\", stats.mode(age))\n",
    "print(\"Median :\", np.median(age))\n",
    "print(\"Range :\", np.ptp(age))"
   ]
  },
  {
   "cell_type": "markdown",
   "metadata": {},
   "source": [
    "### Question 9"
   ]
  },
  {
   "cell_type": "code",
   "execution_count": 155,
   "metadata": {},
   "outputs": [],
   "source": [
    "Amount = [56, 40, 28, 73, 52, 61, 35, 40, 47, 65,\n",
    "52, 44, 38, 60, 56, 40, 36, 49, 68, 57,\n",
    "52, 63, 41, 48, 55, 42, 39, 58, 62, 49,\n",
    "59, 45, 47, 51, 65, 41, 48, 55, 42, 39,\n",
    "58, 62, 49, 59, 45, 47, 51, 65, 43, 58]"
   ]
  },
  {
   "cell_type": "code",
   "execution_count": 156,
   "metadata": {},
   "outputs": [
    {
     "name": "stdout",
     "output_type": "stream",
     "text": [
      "28 -> Count : 1\n",
      "35 -> Count : 1\n",
      "36 -> Count : 1\n",
      "38 -> Count : 1\n",
      "39 -> Count : 2\n",
      "40 -> Count : 3\n",
      "41 -> Count : 2\n",
      "42 -> Count : 2\n",
      "43 -> Count : 1\n",
      "44 -> Count : 1\n",
      "45 -> Count : 2\n",
      "47 -> Count : 3\n",
      "48 -> Count : 2\n",
      "49 -> Count : 3\n",
      "51 -> Count : 2\n",
      "52 -> Count : 3\n",
      "55 -> Count : 2\n",
      "56 -> Count : 2\n",
      "57 -> Count : 1\n",
      "58 -> Count : 3\n",
      "59 -> Count : 2\n",
      "60 -> Count : 1\n",
      "61 -> Count : 1\n",
      "62 -> Count : 2\n",
      "63 -> Count : 1\n",
      "65 -> Count : 3\n",
      "68 -> Count : 1\n",
      "73 -> Count : 1\n"
     ]
    }
   ],
   "source": [
    "# Frequency Distribution\n",
    "for i in set(Amount):\n",
    "    print(f\"{i} -> Count : {Amount.count(i)}\")"
   ]
  },
  {
   "cell_type": "code",
   "execution_count": 157,
   "metadata": {},
   "outputs": [
    {
     "name": "stdout",
     "output_type": "stream",
     "text": [
      "Mode : ModeResult(mode=40, count=3)\n",
      "Median : 50.0\n"
     ]
    }
   ],
   "source": [
    "print(\"Mode :\", stats.mode(Amount))\n",
    "print(\"Median :\", np.median(Amount))"
   ]
  },
  {
   "cell_type": "code",
   "execution_count": 158,
   "metadata": {},
   "outputs": [
    {
     "name": "stdout",
     "output_type": "stream",
     "text": [
      "IQR : 15.75\n"
     ]
    }
   ],
   "source": [
    "# IQR\n",
    "q1 = np.percentile(Amount, 25)\n",
    "q3 = np.percentile(Amount, 75)\n",
    "iqr = q3 - q1\n",
    "print(\"IQR :\", iqr)"
   ]
  },
  {
   "cell_type": "markdown",
   "metadata": {},
   "source": [
    "<center><h3>Graph Question</h3></center>"
   ]
  },
  {
   "cell_type": "markdown",
   "metadata": {},
   "source": [
    "### Question 10"
   ]
  },
  {
   "cell_type": "code",
   "execution_count": 159,
   "metadata": {},
   "outputs": [],
   "source": [
    "defect_type = ['A','B','C','D','E','F','G']\n",
    "frequency = [30, 40, 20, 10, 45, 25, 30]"
   ]
  },
  {
   "cell_type": "code",
   "execution_count": 160,
   "metadata": {},
   "outputs": [
    {
     "data": {
      "image/png": "[encoded data removed]",
      "text/plain": [
       "<Figure size 640x480 with 1 Axes>"
      ]
     },
     "metadata": {},
     "output_type": "display_data"
    }
   ],
   "source": [
    "# Bar Chart\n",
    "plt.bar(defect_type, frequency, color='skyblue', edgecolor='black')\n",
    "plt.xlabel('Defect Type')\n",
    "plt.ylabel('Frequency')\n",
    "plt.show()"
   ]
  },
  {
   "cell_type": "code",
   "execution_count": 161,
   "metadata": {},
   "outputs": [
    {
     "name": "stdout",
     "output_type": "stream",
     "text": [
      "The most common defect is E\n"
     ]
    }
   ],
   "source": [
    "# Most common defect\n",
    "mcd = defect_type[np.argmax(frequency)]\n",
    "print(f\"The most common defect is {mcd}\")"
   ]
  },
  {
   "cell_type": "code",
   "execution_count": 162,
   "metadata": {},
   "outputs": [
    {
     "data": {
      "text/plain": [
       "Text(0, 0.5, 'Count')"
      ]
     },
     "execution_count": 162,
     "metadata": {},
     "output_type": "execute_result"
    },
    {
     "data": {
      "image/png": "[encoded data removed]",
      "text/plain": [
       "<Figure size 640x480 with 1 Axes>"
      ]
     },
     "metadata": {},
     "output_type": "display_data"
    }
   ],
   "source": [
    "# Historgram\n",
    "plt.hist(frequency, bins=7, color='skyblue', edgecolor='black')\n",
    "plt.xlabel('Frequency')\n",
    "plt.ylabel('Count')"
   ]
  },
  {
   "cell_type": "markdown",
   "metadata": {},
   "source": [
    "### Question 11"
   ]
  },
  {
   "cell_type": "code",
   "execution_count": 163,
   "metadata": {},
   "outputs": [],
   "source": [
    "rating = [4, 5, 3, 4, 4, 3, 2, 5, 4, 3,\n",
    "5, 4, 2, 3, 4, 5, 3, 4, 5, 3,\n",
    "4, 3, 2, 4, 5, 3, 4, 5, 4, 3,\n",
    "3, 4, 5, 2, 3, 4, 4, 3, 5, 4,\n",
    "3, 4, 5, 4, 2, 3, 4, 5, 3, 4,\n",
    "5, 4, 3, 4, 5, 3, 4, 5, 4, 3,\n",
    "3, 4, 5, 2, 3, 4, 4, 3, 5, 4,\n",
    "3, 4, 5, 4, 2, 3, 4, 5, 3, 4,\n",
    "5, 4, 3, 4, 5, 3, 4, 5, 4, 3,\n",
    "3, 4, 5, 2, 3, 4, 4, 3, 5, 4]"
   ]
  },
  {
   "cell_type": "code",
   "execution_count": 164,
   "metadata": {},
   "outputs": [
    {
     "data": {
      "text/plain": [
       "Text(0, 0.5, 'Frequency')"
      ]
     },
     "execution_count": 164,
     "metadata": {},
     "output_type": "execute_result"
    },
    {
     "data": {
      "image/png": "[encoded data removed]",
      "text/plain": [
       "<Figure size 640x480 with 1 Axes>"
      ]
     },
     "metadata": {},
     "output_type": "display_data"
    }
   ],
   "source": [
    "plt.hist(rating, bins=5, color='skyblue', edgecolor='black')\n",
    "plt.xlabel('Rating')\n",
    "plt.ylabel('Frequency')"
   ]
  },
  {
   "cell_type": "code",
   "execution_count": 165,
   "metadata": {},
   "outputs": [
    {
     "name": "stdout",
     "output_type": "stream",
     "text": [
      "Mode of Satisfaction Rating : ModeResult(mode=4, count=39)\n"
     ]
    }
   ],
   "source": [
    "rating_mode = stats.mode(rating)\n",
    "print(\"Mode of Satisfaction Rating :\", rating_mode)"
   ]
  },
  {
   "cell_type": "code",
   "execution_count": 166,
   "metadata": {},
   "outputs": [
    {
     "data": {
      "image/png": "[encoded data removed]",
      "text/plain": [
       "<Figure size 640x480 with 1 Axes>"
      ]
     },
     "metadata": {},
     "output_type": "display_data"
    }
   ],
   "source": [
    "rating_counts = {i: rating.count(i) for i in range(np.min(rating), np.max(rating)+1)}\n",
    "plt.bar(rating_counts.keys(), rating_counts.values(), color='skyblue', edgecolor='black')\n",
    "plt.title(\"Frequency of Ratings\")\n",
    "plt.xlabel(\"Ratings\")\n",
    "plt.ylabel(\"Frequency\")\n",
    "plt.show()\n"
   ]
  },
  {
   "cell_type": "markdown",
   "metadata": {},
   "source": [
    "### Question 12"
   ]
  },
  {
   "cell_type": "code",
   "execution_count": 167,
   "metadata": {},
   "outputs": [],
   "source": [
    "sales = [35, 28, 32, 45, 38, 29, 42, 30, 36, 41,\n",
    "47, 31, 39, 43, 37, 30, 34, 39, 28, 33,\n",
    "36, 40, 42, 29, 31, 45, 38, 33, 41, 35,\n",
    "37, 34, 46, 30, 39, 43, 28, 32, 36, 29,\n",
    "31, 37, 40, 42, 33, 39, 28, 35, 38, 43]"
   ]
  },
  {
   "cell_type": "code",
   "execution_count": 168,
   "metadata": {},
   "outputs": [
    {
     "data": {
      "text/plain": [
       "Text(0, 0.5, 'Frequency')"
      ]
     },
     "execution_count": 168,
     "metadata": {},
     "output_type": "execute_result"
    },
    {
     "data": {
      "image/png": "[encoded data removed]",
      "text/plain": [
       "<Figure size 640x480 with 1 Axes>"
      ]
     },
     "metadata": {},
     "output_type": "display_data"
    }
   ],
   "source": [
    "plt.hist(sales, bins=7, color='skyblue', edgecolor='black')\n",
    "plt.xlabel('Sales Data')\n",
    "plt.ylabel('Frequency')"
   ]
  },
  {
   "cell_type": "code",
   "execution_count": 169,
   "metadata": {},
   "outputs": [
    {
     "name": "stdout",
     "output_type": "stream",
     "text": [
      "Average of Sales Data : 36.14\n"
     ]
    }
   ],
   "source": [
    "average_sales = np.mean(sales)\n",
    "print(\"Average of Sales Data :\",average_sales)"
   ]
  },
  {
   "cell_type": "code",
   "execution_count": 170,
   "metadata": {},
   "outputs": [
    {
     "data": {
      "text/plain": [
       "<BarContainer object of 20 artists>"
      ]
     },
     "execution_count": 170,
     "metadata": {},
     "output_type": "execute_result"
    },
    {
     "data": {
      "image/png": "[encoded data removed]",
      "text/plain": [
       "<Figure size 640x480 with 1 Axes>"
      ]
     },
     "metadata": {},
     "output_type": "display_data"
    }
   ],
   "source": [
    "sales_counter = {i: sales.count(i) for i in range(np.min(sales), np.max(sales)+1)}\n",
    "plt.bar(sales_counter.keys(), sales_counter.values(), color='skyblue', edgecolor='black')"
   ]
  },
  {
   "cell_type": "markdown",
   "metadata": {},
   "source": [
    "### Question 13"
   ]
  },
  {
   "cell_type": "code",
   "execution_count": 171,
   "metadata": {},
   "outputs": [],
   "source": [
    "response_times =  [125, 148, 137, 120, 135, 132, 145, 122, 130, 141,\n",
    "118, 125, 132, 136, 128, 123, 132, 138, 126, 129,\n",
    "136, 127, 130, 122, 125, 133, 140, 126, 133, 135,\n",
    "130, 134, 141, 119, 125, 131, 136, 128, 124, 132,\n",
    "136, 127, 130, 122, 125, 133, 140, 126, 133, 135,\n",
    "130, 134, 141, 119, 125, 131, 136, 128, 124, 132,\n",
    "136, 127, 130, 122, 125, 133, 140, 126, 133, 135,\n",
    "130, 134, 141, 119, 125, 131, 136, 128, 124, 132,\n",
    "136, 127, 130, 122, 125, 133, 140, 126, 133, 135,\n",
    "130, 134, 141, 119, 125, 131, 136, 128, 124, 132]"
   ]
  },
  {
   "cell_type": "code",
   "execution_count": 172,
   "metadata": {},
   "outputs": [
    {
     "data": {
      "text/plain": [
       "Text(0, 0.5, 'Frequency')"
      ]
     },
     "execution_count": 172,
     "metadata": {},
     "output_type": "execute_result"
    },
    {
     "data": {
      "image/png": "[encoded data removed]",
      "text/plain": [
       "<Figure size 640x480 with 1 Axes>"
      ]
     },
     "metadata": {},
     "output_type": "display_data"
    }
   ],
   "source": [
    "plt.hist(response_times, bins=7, color='skyblue', edgecolor='black')\n",
    "plt.xlabel('Response Time')\n",
    "plt.ylabel('Frequency')"
   ]
  },
  {
   "cell_type": "code",
   "execution_count": 173,
   "metadata": {},
   "outputs": [
    {
     "name": "stdout",
     "output_type": "stream",
     "text": [
      "Median of Response Time : 130.5\n"
     ]
    }
   ],
   "source": [
    "median_time = np.mean(response_times)\n",
    "print(\"Median of Response Time :\",median_time)"
   ]
  },
  {
   "cell_type": "code",
   "execution_count": 174,
   "metadata": {},
   "outputs": [
    {
     "data": {
      "text/plain": [
       "Text(0, 0.5, 'Frequency')"
      ]
     },
     "execution_count": 174,
     "metadata": {},
     "output_type": "execute_result"
    },
    {
     "data": {
      "image/png": "[encoded data removed]",
      "text/plain": [
       "<Figure size 640x480 with 1 Axes>"
      ]
     },
     "metadata": {},
     "output_type": "display_data"
    }
   ],
   "source": [
    "time_counter = {i: response_times.count(i) for i in range(np.min(response_times), np.max(response_times)+1)}\n",
    "plt.bar(time_counter.keys(), time_counter.values(), color='skyblue', edgecolor='black')\n",
    "plt.xlabel('Response Time')\n",
    "plt.ylabel('Frequency')"
   ]
  },
  {
   "cell_type": "markdown",
   "metadata": {},
   "source": [
    "### Question 14"
   ]
  },
  {
   "cell_type": "code",
   "execution_count": 175,
   "metadata": {},
   "outputs": [],
   "source": [
    "region_1 = [45, 35, 40, 38, 42, 37, 39, 43, 44, 41]\n",
    "region_2 = [32, 28, 30, 34, 33, 35, 31, 29, 36, 37]\n",
    "region_3 = [40, 39, 42, 41, 38, 43, 45, 44, 41, 37]"
   ]
  },
  {
   "cell_type": "code",
   "execution_count": 176,
   "metadata": {},
   "outputs": [
    {
     "data": {
      "text/plain": [
       "Text(0, 0.5, 'Average Sales (in $1000s)')"
      ]
     },
     "execution_count": 176,
     "metadata": {},
     "output_type": "execute_result"
    },
    {
     "data": {
      "image/png": "[encoded data removed]",
      "text/plain": [
       "<Figure size 640x480 with 1 Axes>"
      ]
     },
     "metadata": {},
     "output_type": "display_data"
    }
   ],
   "source": [
    "regions = ['Region1', 'Region2', 'Region3']\n",
    "average_sales = [np.mean(region_1), np.mean(region_2), np.mean(region_3)]\n",
    "\n",
    "plt.bar(regions, average_sales, color=['skyblue', 'salmon', 'lightgreen'], edgecolor='black')\n",
    "plt.xlabel('Regions', fontsize=12)\n",
    "plt.ylabel('Average Sales (in $1000s)', fontsize=12)"
   ]
  },
  {
   "cell_type": "code",
   "execution_count": 177,
   "metadata": {},
   "outputs": [
    {
     "name": "stdout",
     "output_type": "stream",
     "text": [
      "Average sales in Region 1: 40.4\n",
      "Average sales in Region 2: 32.5\n",
      "Average sales in Region 3: 41.0\n"
     ]
    }
   ],
   "source": [
    "avg_region1 = np.mean(region_1)\n",
    "avg_region2 = np.mean(region_2)\n",
    "avg_region3 = np.mean(region_3)\n",
    "print(f\"Average sales in Region 1: {avg_region1}\")\n",
    "print(f\"Average sales in Region 2: {avg_region2:}\")\n",
    "print(f\"Average sales in Region 3: {avg_region3:}\")"
   ]
  },
  {
   "cell_type": "code",
   "execution_count": 178,
   "metadata": {},
   "outputs": [
    {
     "name": "stdout",
     "output_type": "stream",
     "text": [
      "Range of sales in Region 1: 10\n",
      "Range of sales in Region 2: 9\n",
      "Range of sales in Region 3: 8\n"
     ]
    }
   ],
   "source": [
    "range_region1 = max(region_1) - min(region_1)\n",
    "range_region2 = max(region_2) - min(region_2)\n",
    "range_region3 = max(region_3) - min(region_3)\n",
    "print(f\"Range of sales in Region 1: {range_region1}\")\n",
    "print(f\"Range of sales in Region 2: {range_region2}\")\n",
    "print(f\"Range of sales in Region 3: {range_region3}\")"
   ]
  }
 ],
 "metadata": {
  "kernelspec": {
   "display_name": "Python 3",
   "language": "python",
   "name": "python3"
  },
  "language_info": {
   "codemirror_mode": {
    "name": "ipython",
    "version": 3
   },
   "file_extension": ".py",
   "mimetype": "text/x-python",
   "name": "python",
   "nbconvert_exporter": "python",
   "pygments_lexer": "ipython3",
   "version": "3.12.1"
  }
 },
 "nbformat": 4,
 "nbformat_minor": 2
}
