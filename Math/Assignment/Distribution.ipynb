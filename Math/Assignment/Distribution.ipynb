{
 "cells": [
  {
   "cell_type": "code",
   "execution_count": 7,
   "metadata": {},
   "outputs": [],
   "source": [
    "from scipy.stats import poisson, binom, norm, expon"
   ]
  },
  {
   "cell_type": "markdown",
   "metadata": {},
   "source": [
    "<center><h2>Discrete Distribution</h2></center>"
   ]
  },
  {
   "cell_type": "markdown",
   "metadata": {},
   "source": [
    "### Question 1"
   ]
  },
  {
   "cell_type": "code",
   "execution_count": 3,
   "metadata": {},
   "outputs": [
    {
     "name": "stdout",
     "output_type": "stream",
     "text": [
      "Probability of exactly 3 defects in a batch: 0.1804\n"
     ]
    }
   ],
   "source": [
    "lambda_ = 2 \n",
    "x_poisson = 3 \n",
    "poisson_prob = poisson.pmf(x_poisson, lambda_)\n",
    "print(f\"Probability of exactly 3 defects in a batch: {poisson_prob:.4f}\")"
   ]
  },
  {
   "cell_type": "markdown",
   "metadata": {},
   "source": [
    "### Question 2"
   ]
  },
  {
   "cell_type": "code",
   "execution_count": 4,
   "metadata": {},
   "outputs": [
    {
     "name": "stdout",
     "output_type": "stream",
     "text": [
      "Probability of winning exactly 3 rounds: 0.2668\n"
     ]
    }
   ],
   "source": [
    "n_binom = 10  \n",
    "p_binom = 0.3  \n",
    "x_binom = 3\n",
    "binom_prob = binom.pmf(x_binom, n_binom, p_binom)\n",
    "print(f\"Probability of winning exactly 3 rounds: {binom_prob:.4f}\")"
   ]
  },
  {
   "cell_type": "markdown",
   "metadata": {},
   "source": [
    "### Question 3"
   ]
  },
  {
   "cell_type": "code",
   "execution_count": 6,
   "metadata": {},
   "outputs": [
    {
     "name": "stdout",
     "output_type": "stream",
     "text": [
      "Probability of rolling at least one 6 in three rolls: 0.4213\n"
     ]
    }
   ],
   "source": [
    "n_rolls = 3 \n",
    "p_six = 1/6  \n",
    "p_no_six = (1 - p_six) ** n_rolls\n",
    "p_at_least_one_six = 1 - p_no_six\n",
    "print(f\"Probability of rolling at least one 6 in three rolls: {p_at_least_one_six:.4f}\")"
   ]
  },
  {
   "cell_type": "markdown",
   "metadata": {},
   "source": [
    "<center><h2>Continous Distribution</h2></center>"
   ]
  },
  {
   "cell_type": "markdown",
   "metadata": {},
   "source": [
    "### Question 1"
   ]
  },
  {
   "cell_type": "code",
   "execution_count": 8,
   "metadata": {},
   "outputs": [
    {
     "name": "stdout",
     "output_type": "stream",
     "text": [
      "Probability that a randomly selected apple weighs between 140 and 160 grams: 0.6827\n"
     ]
    }
   ],
   "source": [
    "mu_norm = 150  # Mean weight in grams\n",
    "sigma_norm = 10  # Standard deviation in grams\n",
    "x1, x2 = 140, 160  # Weight range\n",
    "probability_normal = norm.cdf(x2, mu_norm, sigma_norm) - norm.cdf(x1, mu_norm, sigma_norm)\n",
    "print(f\"Probability that a randomly selected apple weighs between 140 and 160 grams: {probability_normal:.4f}\")"
   ]
  },
  {
   "cell_type": "markdown",
   "metadata": {},
   "source": [
    "### Quesiton 2"
   ]
  },
  {
   "cell_type": "code",
   "execution_count": 9,
   "metadata": {},
   "outputs": [
    {
     "name": "stdout",
     "output_type": "stream",
     "text": [
      "Probability that a randomly selected light bulb lasts more than 900 hours: 0.4066\n"
     ]
    }
   ],
   "source": [
    "mu_exp = 1000  # Mean lifetime in hours\n",
    "x_exp = 900  # Lifetime threshold\n",
    "probability_exponential = 1 - expon.cdf(x_exp, scale=mu_exp)\n",
    "print(f\"Probability that a randomly selected light bulb lasts more than 900 hours: {probability_exponential:.4f}\")"
   ]
  },
  {
   "cell_type": "markdown",
   "metadata": {},
   "source": [
    "<center><h2></h2></center>"
   ]
  }
 ],
 "metadata": {
  "kernelspec": {
   "display_name": "Python 3",
   "language": "python",
   "name": "python3"
  },
  "language_info": {
   "codemirror_mode": {
    "name": "ipython",
    "version": 3
   },
   "file_extension": ".py",
   "mimetype": "text/x-python",
   "name": "python",
   "nbconvert_exporter": "python",
   "pygments_lexer": "ipython3",
   "version": "3.12.1"
  }
 },
 "nbformat": 4,
 "nbformat_minor": 2
}
