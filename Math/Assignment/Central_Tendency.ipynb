{
 "cells": [
  {
   "cell_type": "code",
   "execution_count": 1,
   "metadata": {},
   "outputs": [],
   "source": [
    "import numpy as np\n",
    "import scipy.stats as stats"
   ]
  },
  {
   "cell_type": "markdown",
   "metadata": {},
   "source": [
    "### Question 1"
   ]
  },
  {
   "cell_type": "code",
   "execution_count": 2,
   "metadata": {},
   "outputs": [],
   "source": [
    "sales_data = [50, 60, 55, 70]"
   ]
  },
  {
   "cell_type": "code",
   "execution_count": null,
   "metadata": {},
   "outputs": [],
   "source": [
    "mean = np.mean(sales_data)\n",
    "median = np.median(sales_data) \n",
    "mode = stats.mode(sales_data)"
   ]
  },
  {
   "cell_type": "code",
   "execution_count": 17,
   "metadata": {},
   "outputs": [
    {
     "name": "stdout",
     "output_type": "stream",
     "text": [
      "Mean of Sales Data is:  58.75\n",
      "Median of Sales Data is:  57.5\n",
      "Mode of Sales Data is:  ModeResult(mode=50, count=1)\n"
     ]
    }
   ],
   "source": [
    "print(\"Mean of Sales Data is: \", mean)\n",
    "print(\"Median of Sales Data is: \", median)\n",
    "print(\"Mode of Sales Data is: \", mode)"
   ]
  },
  {
   "cell_type": "markdown",
   "metadata": {},
   "source": [
    "### Question 2"
   ]
  },
  {
   "cell_type": "code",
   "execution_count": 6,
   "metadata": {},
   "outputs": [],
   "source": [
    "waiting_time = [15, 10, 20, 25, 15, 10, 30, 20, 15, 10, 10, 25, 15, 20, 20, 15, 10, 10, 20, 25]"
   ]
  },
  {
   "cell_type": "code",
   "execution_count": 18,
   "metadata": {},
   "outputs": [],
   "source": [
    "mean = np.mean(waiting_time)\n",
    "median = np.median(waiting_time)\n",
    "mode = stats.mode(waiting_time)"
   ]
  },
  {
   "cell_type": "code",
   "execution_count": 20,
   "metadata": {},
   "outputs": [
    {
     "name": "stdout",
     "output_type": "stream",
     "text": [
      "Mean of Waiting Time is:  17.0\n",
      "Median of Waiting Time is:  15.0\n",
      "Mode of Waiting Time is:  ModeResult(mode=10, count=6)\n"
     ]
    }
   ],
   "source": [
    "print(\"Mean of Waiting Time is: \", mean)\n",
    "print(\"Median of Waiting Time is: \", median)\n",
    "print(\"Mode of Waiting Time is: \", mode)"
   ]
  },
  {
   "cell_type": "markdown",
   "metadata": {},
   "source": [
    "### Question 3"
   ]
  },
  {
   "cell_type": "code",
   "execution_count": 10,
   "metadata": {},
   "outputs": [],
   "source": [
    "rantal_data = [3, 2, 5, 4, 7, 2, 3, 3, 1, 6,\n",
    "4, 2, 3, 5, 2, 4, 2, 1, 3, 5,\n",
    "6, 3, 2, 1, 4, 2, 4, 5, 3, 2,\n",
    "7, 2, 3, 4, 5, 1, 6, 2, 4, 3,\n",
    "5, 3, 2, 4, 2, 6, 3, 2, 4, 5]"
   ]
  },
  {
   "cell_type": "code",
   "execution_count": 21,
   "metadata": {},
   "outputs": [],
   "source": [
    "mean = np.mean(rantal_data)\n",
    "median = np.median(rantal_data)\n",
    "mode = stats.mode(rantal_data)"
   ]
  },
  {
   "cell_type": "code",
   "execution_count": 22,
   "metadata": {},
   "outputs": [
    {
     "name": "stdout",
     "output_type": "stream",
     "text": [
      "Mean of Rental Data is:  3.44\n",
      "Median of Rental Data is:  3.0\n",
      "Mode of Rental Data is:  ModeResult(mode=2, count=13)\n"
     ]
    }
   ],
   "source": [
    "print(\"Mean of Rental Data is: \", mean)\n",
    "print(\"Median of Rental Data is: \", median)\n",
    "print(\"Mode of Rental Data is: \", mode)"
   ]
  }
 ],
 "metadata": {
  "kernelspec": {
   "display_name": "Python 3",
   "language": "python",
   "name": "python3"
  },
  "language_info": {
   "codemirror_mode": {
    "name": "ipython",
    "version": 3
   },
   "file_extension": ".py",
   "mimetype": "text/x-python",
   "name": "python",
   "nbconvert_exporter": "python",
   "pygments_lexer": "ipython3",
   "version": "3.12.1"
  }
 },
 "nbformat": 4,
 "nbformat_minor": 2
}
